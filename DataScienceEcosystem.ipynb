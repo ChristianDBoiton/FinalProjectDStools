{
 "cells": [
  {
   "cell_type": "markdown",
   "id": "5eda28eb-bda4-403a-878c-a1fc6d62115f",
   "metadata": {
    "tags": []
   },
   "source": [
    "DataScienceEcosystem"
   ]
  },
  {
   "cell_type": "markdown",
   "id": "ae887b7b-4fb7-49a3-8939-dddea48e1349",
   "metadata": {},
   "source": [
    "In this notebook, Data Science Tools and Ecosystem are summarized."
   ]
  },
  {
   "cell_type": "markdown",
   "id": "46ccc51b-206a-4f04-a3e6-ceec229f2ea4",
   "metadata": {},
   "source": [
    "**Objetives:**\n",
    "- Unorderded list\n",
    "- List popular languages for Data Science\n",
    "- Markdown cells\n",
    "- Code cells and multiply numbers\n",
    "- Create a notebook"
   ]
  },
  {
   "cell_type": "markdown",
   "id": "d0ddbb8d-5478-4b62-ad02-9552414dfe77",
   "metadata": {},
   "source": [
    "Some of popular languages that Data Scientists use are:\n",
    "1. Python\n",
    "2. R\n",
    "3. SQL"
   ]
  },
  {
   "cell_type": "markdown",
   "id": "560e50cd-07a5-48cf-a3d3-7c28c89914fc",
   "metadata": {},
   "source": [
    "Some of the commonly used libraries used by Data Scientists:\n",
    "1. Panda\n",
    "2. Scikit-lean\n",
    "3. TensorFlow"
   ]
  },
  {
   "cell_type": "markdown",
   "id": "231fd367-c84c-4995-995c-6c7b19e7559e",
   "metadata": {},
   "source": [
    "|Data Science Tools|\n",
    "|---|\n",
    "|RStudio|\n",
    "|Apache Spark|\n",
    "|TensorFlow|"
   ]
  },
  {
   "cell_type": "markdown",
   "id": "35aa51aa-8ae5-48a3-9f5c-51e1462eaa4d",
   "metadata": {},
   "source": [
    "### Below are a few examples of evaluating arithmetic expressions in Python\n"
   ]
  },
  {
   "cell_type": "code",
   "execution_count": 4,
   "id": "bd7b3580-fdb6-48e2-9351-f7dc2365afd1",
   "metadata": {
    "tags": []
   },
   "outputs": [
    {
     "data": {
      "text/plain": [
       "17"
      ]
     },
     "execution_count": 4,
     "metadata": {},
     "output_type": "execute_result"
    }
   ],
   "source": [
    "#This a simple arithmetic expression to multiply then add integer\n",
    "(3*4)+5\n"
   ]
  },
  {
   "cell_type": "code",
   "execution_count": 5,
   "id": "7d9c4848-fb01-4081-9b8e-4d8c8801b943",
   "metadata": {
    "tags": []
   },
   "outputs": [
    {
     "data": {
      "text/plain": [
       "3.3333333333333335"
      ]
     },
     "execution_count": 5,
     "metadata": {},
     "output_type": "execute_result"
    }
   ],
   "source": [
    "#this will convert 200 minutes to hours by diving by 60\n",
    "200/60"
   ]
  },
  {
   "cell_type": "markdown",
   "id": "d682cafb-d90f-41b5-83ad-74f691e0a020",
   "metadata": {},
   "source": [
    "Author \n",
    "## Christian De La Cruz"
   ]
  },
  {
   "cell_type": "code",
   "execution_count": null,
   "id": "a440948f-72d8-44f5-8930-44f14f521ff9",
   "metadata": {},
   "outputs": [],
   "source": []
  }
 ],
 "metadata": {
  "kernelspec": {
   "display_name": "Python",
   "language": "python",
   "name": "conda-env-python-py"
  },
  "language_info": {
   "codemirror_mode": {
    "name": "ipython",
    "version": 3
   },
   "file_extension": ".py",
   "mimetype": "text/x-python",
   "name": "python",
   "nbconvert_exporter": "python",
   "pygments_lexer": "ipython3",
   "version": "3.7.12"
  }
 },
 "nbformat": 4,
 "nbformat_minor": 5
}
